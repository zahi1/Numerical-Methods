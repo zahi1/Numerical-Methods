{
 "cells": [
  {
   "cell_type": "code",
   "execution_count": 14,
   "id": "7758eaf9-e439-4a56-afe7-0e827b719e8e",
   "metadata": {},
   "outputs": [
    {
     "name": "stdout",
     "output_type": "stream",
     "text": [
      "Solution for A: No unique solution exists or system is inconsistent.\n"
     ]
    }
   ],
   "source": [
    "import numpy as np\n",
    "\n",
    "def gaussian_elimination(coefficients, constants):\n",
    "    \"\"\"\n",
    "    Solves a system of linear equations using Gaussian elimination.\n",
    "    :param coefficients: numpy matrix of coefficients\n",
    "    :param constants: numpy matrix (vector) of constants\n",
    "    :return: numpy array of solutions or a message about the system's solvability\n",
    "    \"\"\"\n",
    "    # Create an augmented matrix by appending the constants to the coefficients\n",
    "    augmented_matrix = np.hstack((coefficients, constants))\n",
    "\n",
    "    # Perform Gaussian elimination\n",
    "    rows, cols = augmented_matrix.shape\n",
    "    for i in range(rows):\n",
    "        # Find the maximum element in the current column\n",
    "        max_row = np.argmax(np.abs(augmented_matrix[i:, i])) + i\n",
    "        if augmented_matrix[max_row, i] == 0:\n",
    "            return \"No unique solution exists or system is inconsistent.\"\n",
    "\n",
    "        # Swap the current row with the max row if needed\n",
    "        if max_row != i:\n",
    "            augmented_matrix[[i, max_row]] = augmented_matrix[[max_row, i]]\n",
    "\n",
    "        # Normalize the pivot row\n",
    "        augmented_matrix[i] = augmented_matrix[i] / augmented_matrix[i, i]\n",
    "\n",
    "        # Eliminate the current column elements below and above the pivot\n",
    "        for j in range(rows):\n",
    "            if j != i:\n",
    "                augmented_matrix[j] -= augmented_matrix[i] * augmented_matrix[j, i]\n",
    "\n",
    "    # Check for infinite solutions or no solution\n",
    "    for i in range(rows):\n",
    "        if (augmented_matrix[i, :-1] == 0).all() and augmented_matrix[i, -1] != 0:\n",
    "            return \"No solution.\"\n",
    "\n",
    "    # If the system is consistent, return the last column as the solution\n",
    "    return augmented_matrix[:, -1]\n",
    "\n",
    "# Example usage with matrix 'A' and vector 'b'\n",
    "A=np.matrix([[1.0 , -2.0,  3.0,  4.0],\n",
    "             [1.0, 0.0, -1.0,  1.0],\n",
    "             [2.0,  -2.0, 2.0,  5.0],\n",
    "             [0.0,  -7.0,  3.0, 1.0]])       # coeficients\n",
    "\n",
    "\n",
    "\n",
    "B=np.matrix([[3,7,1,3],\n",
    "             [1,-6,6,9],\n",
    "             [4,4,-7,1],\n",
    "             [-1,3,8,2]])       # coeficients\n",
    "C=np.matrix([[0,1,2,1],\n",
    "             [6,-2,3,4],\n",
    "             [0,3,4,-3],\n",
    "             [0,-4,3,1]])       # coeficients\n",
    "D=np.matrix([[3,7,1,3],\n",
    "             [1,-6,6,8],\n",
    "             [4,4,-7,1],\n",
    "             [4,16,2,0]])       # coeficients\n",
    "E=np.matrix([[1,2,1,0],\n",
    "             [2,5,0,4],\n",
    "             [14,-8,4,1],\n",
    "             [4,10,0,8]])       # coeficients\n",
    "\n",
    "b=(np.matrix([11,-4,7,2])).transpose()  # vector b\n",
    "b2=(np.matrix([37,11,38,-1])).transpose()  # vector b\n",
    "b3=(np.matrix([2,-15,10,-2])).transpose()  # vector b\n",
    "b4=(np.matrix([40,19,36,48])).transpose()  # vector b\n",
    "b5=(np.matrix([-4,3,7,2])).transpose()  # vector b\n",
    "\n",
    "solution = gaussian_elimination(A, b)\n",
    "print(\"Solution for A:\", solution)\n",
    "\n",
    "# You can repeat the process for the other matrices (B, C, D, E) and vectors (b2, b3, b4, b5).\n"
   ]
  },
  {
   "cell_type": "code",
   "execution_count": null,
   "id": "cf05917c-04cb-406f-a494-27b51aefadb2",
   "metadata": {},
   "outputs": [],
   "source": []
  },
  {
   "cell_type": "code",
   "execution_count": null,
   "id": "99483fa9-d1fb-4143-837e-32fea95c25dc",
   "metadata": {},
   "outputs": [],
   "source": []
  }
 ],
 "metadata": {
  "kernelspec": {
   "display_name": "Python 3 (ipykernel)",
   "language": "python",
   "name": "python3"
  },
  "language_info": {
   "codemirror_mode": {
    "name": "ipython",
    "version": 3
   },
   "file_extension": ".py",
   "mimetype": "text/x-python",
   "name": "python",
   "nbconvert_exporter": "python",
   "pygments_lexer": "ipython3",
   "version": "3.11.4"
  }
 },
 "nbformat": 4,
 "nbformat_minor": 5
}
