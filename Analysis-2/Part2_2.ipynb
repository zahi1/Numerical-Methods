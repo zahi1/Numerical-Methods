{
 "cells": [
  {
   "cell_type": "code",
   "execution_count": 1,
   "id": "401d2f67-8c35-4a47-b081-4143b1b7cd9e",
   "metadata": {},
   "outputs": [],
   "source": [
    "import matplotlib.pyplot as plt\n",
    "import numpy as np\n",
    "from matplotlib import cm\n"
   ]
  },
  {
   "cell_type": "code",
   "execution_count": 2,
   "id": "64657182-2344-4e55-946d-7a2221111a6b",
   "metadata": {},
   "outputs": [
    {
     "name": "stdout",
     "output_type": "stream",
     "text": [
      "Iteration     0, f(x) 3.862684e+00\n",
      "Iteration     1, f(x) 6.209508e+00\n",
      "Iteration     2, f(x) 2.583599e+00\n",
      "Iteration     3, f(x) 2.486643e+00\n",
      "Iteration     4, f(x) 6.768731e+00\n",
      "Iteration     5, f(x) 7.513087e+00\n",
      "Iteration     6, f(x) 4.475219e+00\n",
      "Iteration     7, f(x) 6.808838e+00\n",
      "Iteration     8, f(x) 1.318748e+00\n",
      "Iteration     9, f(x) 3.846292e+00\n",
      "Iteration    10, f(x) 1.196066e-01\n",
      "Iteration    11, f(x) 1.034164e-02\n",
      "Iteration    12, f(x) 1.740300e-05\n",
      "Iteration    13, f(x) 6.435826e-07\n",
      "[[-0.22959897]\n",
      " [ 0.68477367]]\n"
     ]
    }
   ],
   "source": [
    "import numpy as np\n",
    "\n",
    "# Define the function for which we want to find the roots or minimum.\n",
    "def funct(x):\n",
    "  x1, x2 = x[0,0], x[1,0]  # Extract elements from the input vector x\n",
    "  # Return the function values as a numpy array\n",
    "  return np.array([\n",
    "        [2*np.sin(x1) + x1 + x2],\n",
    "        [4*np.cos(2*x2) - x2 + 0.5*x1]])\n",
    "\n",
    "# Define the function to approximate the Jacobian matrix.\n",
    "def jacobian_approximation(B, delta_x, delta_f):\n",
    "  B_delta_x = B @ delta_x  # Multiply the current Jacobian approximation with delta_x\n",
    "  y_diff = delta_f - B_delta_x  # Calculate the difference in y\n",
    "  # Update and return the new Jacobian approximation\n",
    "  return B + (y_diff @ y_diff.T) / (y_diff.T @ delta_x)\n",
    "\n",
    "# Initial guess for the root of the function\n",
    "x = -1*np.ones((2,1))\n",
    "\n",
    "# Initial Jacobian approximation, which can be the identity matrix or any other non-singular matrix\n",
    "B = np.eye(2)\n",
    "\n",
    "# Start the iteration process for optimization\n",
    "for i in range(100):\n",
    "  # Calculate the change in x using the inverse of the current Jacobian approximation and the function value at x\n",
    "  delta_x = -np.linalg.inv(B) @ funct(x)\n",
    "  # Update the guess for x\n",
    "  x_new = x + delta_x\n",
    "  # Calculate the change in the function value\n",
    "  delta_f = funct(x_new) - funct(x)\n",
    "  \n",
    "  # Update the Jacobian approximation using the jacobian_approximation function\n",
    "  B = jacobian_approximation(B, delta_x, delta_f)\n",
    "  \n",
    "  # Print the current iteration number and the norm of the function value at x\n",
    "  print(\"Iteration {:5d}, f(x) {:7.6e}\".format(i, np.linalg.norm(funct(x))))\n",
    "  \n",
    "  # Check for convergence; if the function value is below a threshold, stop the iteration\n",
    "  if (np.linalg.norm(funct(x)) < 1e-6):\n",
    "    break\n",
    "  \n",
    "  # Update x for the next iteration\n",
    "  x = x_new\n",
    "\n",
    "# Print the final approximation for the root of the function\n",
    "print(x)\n"
   ]
  },
  {
   "cell_type": "code",
   "execution_count": null,
   "id": "cc27bf55-4bd2-443f-81e8-236fe4b575e8",
   "metadata": {},
   "outputs": [],
   "source": []
  },
  {
   "cell_type": "code",
   "execution_count": null,
   "id": "b5ce7dc7-e9bd-4854-b936-978039f75f59",
   "metadata": {},
   "outputs": [],
   "source": []
  }
 ],
 "metadata": {
  "kernelspec": {
   "display_name": "Python 3 (ipykernel)",
   "language": "python",
   "name": "python3"
  },
  "language_info": {
   "codemirror_mode": {
    "name": "ipython",
    "version": 3
   },
   "file_extension": ".py",
   "mimetype": "text/x-python",
   "name": "python",
   "nbconvert_exporter": "python",
   "pygments_lexer": "ipython3",
   "version": "3.11.4"
  }
 },
 "nbformat": 4,
 "nbformat_minor": 5
}
