{
 "cells": [
  {
   "cell_type": "code",
   "execution_count": 20,
   "metadata": {
    "id": "1EQL7Ldx0DUd"
   },
   "outputs": [],
   "source": [
    "import numpy as np"
   ]
  },
  {
   "cell_type": "markdown",
   "metadata": {
    "id": "azClP2ht1QCN"
   },
   "source": [
    "!Important: provided example not evaluates special cases as \"no no solution\", \"many solutions\", etc."
   ]
  },
  {
   "cell_type": "code",
   "execution_count": 28,
   "metadata": {
    "id": "BjSn_2hD0lr2"
   },
   "outputs": [],
   "source": [
    "A=np.matrix([[1.0 , -2.0,  3.0,  4.0],\n",
    "             [1.0, 0.0, -1.0,  1.0],\n",
    "             [2.0,  -2.0, 2.0,  5.0],\n",
    "             [0.0,  -7.0,  3.0, 1.0]])       # coeficients\n",
    "\n",
    "\n",
    "\n",
    "B=np.matrix([[3,7,1,3],\n",
    "             [1,-6,6,9],\n",
    "             [4,4,-7,1],\n",
    "             [-1,3,8,2]])       # coeficients\n",
    "C=np.matrix([[0,1,2,1],\n",
    "             [6,-2,3,4],\n",
    "             [0,3,4,-3],\n",
    "             [0,-4,3,1]])       # coeficients\n",
    "D=np.matrix([[3,7,1,3],\n",
    "             [1,-6,6,8],\n",
    "             [4,4,-7,1],\n",
    "             [4,16,2,0]])       # coeficients\n",
    "E=np.matrix([[1,2,1,0],\n",
    "             [2,5,0,4],\n",
    "             [14,-8,4,1],\n",
    "             [4,10,0,8]])       # coeficients\n",
    "\n",
    "b=(np.matrix([11,-4,7,2])).transpose()  # vector b\n",
    "b2=(np.matrix([37,11,38,-1])).transpose()  # vector b\n",
    "b3=(np.matrix([2,-15,10,-2])).transpose()  # vector b\n",
    "b4=(np.matrix([40,19,36,48])).transpose()  # vector b\n",
    "b5=(np.matrix([-4,3,7,2])).transpose()  # vector b\n",
    "#b=np.matrix([[2],[0],[9],[7]]) # alternative\n"
   ]
  },
  {
   "cell_type": "code",
   "execution_count": 29,
   "metadata": {
    "id": "LuiSGpJa0Nwh"
   },
   "outputs": [],
   "source": [
    "n=(np.shape(A))[0]   # number of equations\n",
    "nb=(np.shape(b))[1]  # number of solutions"
   ]
  },
  {
   "cell_type": "code",
   "execution_count": 30,
   "metadata": {
    "colab": {
     "base_uri": "https://localhost:8080/"
    },
    "id": "ZtWu5nCk02-c",
    "outputId": "601bf015-0a25-491a-80ae-1b6a058e548f"
   },
   "outputs": [
    {
     "name": "stdout",
     "output_type": "stream",
     "text": [
      "[[ 1. -2.  3.  4. 11.]\n",
      " [ 1.  0. -1.  1. -4.]\n",
      " [ 2. -2.  2.  5.  7.]\n",
      " [ 0. -7.  3.  1.  2.]]\n"
     ]
    }
   ],
   "source": [
    "A1=np.hstack((A,b))  # expanding matrix\n",
    "print(A1)"
   ]
  },
  {
   "cell_type": "code",
   "execution_count": 31,
   "metadata": {
    "colab": {
     "base_uri": "https://localhost:8080/"
    },
    "id": "gZFHDJBjz_NX",
    "outputId": "e047fd47-38e4-4fba-b760-73d666fee279"
   },
   "outputs": [
    {
     "name": "stdout",
     "output_type": "stream",
     "text": [
      "[[  1.   -2.    3.    4.   11. ]\n",
      " [  0.    2.   -4.   -3.  -15. ]\n",
      " [  0.    0.    0.    0.    0. ]\n",
      " [  0.    0.    0.   -9.5 -50.5]]\n",
      "[[-9.31578947]\n",
      " [ 0.47368421]\n",
      " [ 0.        ]\n",
      " [ 5.31578947]]\n"
     ]
    }
   ],
   "source": [
    "# forward step\n",
    "for i in range (0,n-1):\n",
    "    for j in range (i+1,n):\n",
    "        if A1[i,i] != 0:  # Add this condition to check if A1[i,i] is non-zero\n",
    "            A1[j,i:n+nb]=A1[j,i:n+nb]-A1[i,i:n+nb]*A1[j,i]/A1[i,i]\n",
    "        A1[j,i]=0\n",
    "\n",
    "print(A1)\n",
    "\n",
    "\n",
    "#  backward step:\n",
    "x = np.zeros(shape=(n,nb))\n",
    "for i in range (n-1,-1,-1):\n",
    "    if A1[i,i] != 0:  # Add this condition to check if A1[i,i] is non-zero\n",
    "        x[i,:] = (A1[i,n:n+nb]-A1[i,i+1:n]*x[i+1:n,:]) / A1[i,i]\n",
    "    else:\n",
    "        # Handle the case where A1[i,i] is zero (division by zero)\n",
    "        # This could be an error condition for your specific problem\n",
    "        # Adjust the logic here to fit your problem's requirements\n",
    "        pass\n",
    "\n",
    "print(x)"
   ]
  },
  {
   "cell_type": "code",
   "execution_count": 32,
   "metadata": {},
   "outputs": [
    {
     "data": {
      "text/plain": [
       "matrix([[11.],\n",
       "        [-4.],\n",
       "        [ 7.],\n",
       "        [ 2.]])"
      ]
     },
     "execution_count": 32,
     "metadata": {},
     "output_type": "execute_result"
    }
   ],
   "source": [
    "np.matmul(A,x)"
   ]
  },
  {
   "cell_type": "code",
   "execution_count": null,
   "metadata": {},
   "outputs": [],
   "source": []
  },
  {
   "cell_type": "code",
   "execution_count": null,
   "metadata": {},
   "outputs": [],
   "source": []
  },
  {
   "cell_type": "code",
   "execution_count": null,
   "metadata": {},
   "outputs": [],
   "source": []
  }
 ],
 "metadata": {
  "colab": {
   "provenance": []
  },
  "kernelspec": {
   "display_name": "Python 3 (ipykernel)",
   "language": "python",
   "name": "python3"
  },
  "language_info": {
   "codemirror_mode": {
    "name": "ipython",
    "version": 3
   },
   "file_extension": ".py",
   "mimetype": "text/x-python",
   "name": "python",
   "nbconvert_exporter": "python",
   "pygments_lexer": "ipython3",
   "version": "3.11.4"
  }
 },
 "nbformat": 4,
 "nbformat_minor": 4
}
