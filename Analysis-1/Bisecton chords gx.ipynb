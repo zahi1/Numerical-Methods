{
 "cells": [
  {
   "cell_type": "code",
   "execution_count": null,
   "metadata": {
    "id": "lWSKfrzmollw"
   },
   "outputs": [],
   "source": [
    "import numpy as np\n",
    "import matplotlib.pyplot as plt"
   ]
  },
  {
   "cell_type": "code",
   "execution_count": null,
   "metadata": {
    "id": "ifqt3ujWoymJ"
   },
   "outputs": [],
   "source": [
    "# given function\n",
    "def fx(x):\n",
    "  return np.sin(x) * (x**2 - 1) * (x + 3) - 0.9"
   ]
  },
  {
   "cell_type": "code",
   "execution_count": null,
   "metadata": {
    "colab": {
     "base_uri": "https://localhost:8080/",
     "height": 472
    },
    "id": "yAFgEKFrpEz7",
    "outputId": "2a298883-1ca1-41ec-9509-c70c58be6b1b"
   },
   "outputs": [],
   "source": [
    "#data to visulize function in interval [3,4]\n",
    "xmin, xmax = 2,5 # points for visualization\n",
    "# ploting givven function\n",
    "dx = 0.05;  x=np.arange(xmin,xmax, dx); y=fx(x)\n",
    "plt.xlabel(\"x\"); plt.ylabel(\"y\"); plt.plot(x, y, 'b'); plt.grid()\n",
    "# ploting bracketing points\n",
    "xst, xet = 3, 4\n",
    "plt.plot([xst, xet], [0,0], 'or')\n",
    "\n"
   ]
  },
  {
   "cell_type": "markdown",
   "metadata": {
    "id": "EhOPdhabo8Lk"
   },
   "source": [
    "Bisection"
   ]
  },
  {
   "cell_type": "code",
   "execution_count": null,
   "metadata": {
    "colab": {
     "base_uri": "https://localhost:8080/",
     "height": 912
    },
    "id": "2saQ5Mo-o4cK",
    "outputId": "d3333884-baf5-4236-9d5e-481b5328147d"
   },
   "outputs": [],
   "source": [
    "xs, xe = 1.100, 1.400\n",
    "xmid = (xs + xe)/2\n",
    "eps = 1e-8\n",
    "while np.abs(fx(xmid)) > eps:\n",
    "  xmid = (xs + xe)/2\n",
    "  if np.sign(fx(xmid)) == np.sign(fx(xs)):\n",
    "    xs = xmid\n",
    "  else:\n",
    "    xe = xmid\n",
    "  print(\"Fx = \" + str(fx(xmid)))\n",
    "\n",
    "# plotting results\n",
    "plt.xlabel(\"x\"); plt.ylabel(\"y\"); plt.plot(x, y, 'b'); plt.grid()\n",
    "plt.plot([xst, xet], [0,0], 'or')\n",
    "plt.plot([xmid], fx(xmid), 'og')\n",
    "\n"
   ]
  },
  {
   "cell_type": "markdown",
   "metadata": {
    "id": "WMQpgL0CsK2D"
   },
   "source": [
    "Chords"
   ]
  },
  {
   "cell_type": "code",
   "execution_count": null,
   "metadata": {
    "colab": {
     "base_uri": "https://localhost:8080/",
     "height": 524
    },
    "id": "PyMwuEnkr74Y",
    "outputId": "b7933902-12ca-433a-8918-ec2ce328be6d"
   },
   "outputs": [],
   "source": [
    "xs, xe = 1.1, 1.4\n",
    "k = np.abs(fx(xs)/ fx(xe))\n",
    "xmid = (xs + k*xe)/(1+k)\n",
    "eps = 1e-8\n",
    "while np.abs(fx(xmid)) > eps:\n",
    "  k = np.abs(fx(xs)/ fx(xe))\n",
    "  xmid = (xs + k*xe)/(1+k)\n",
    "  if np.sign(fx(xmid)) == np.sign(fx(xs)):\n",
    "    xs = xmid\n",
    "  else:\n",
    "    xe = xmid\n",
    "  print(\"Fx = \" + str(fx(xmid)))\n",
    "\n",
    "# plotting results\n",
    "plt.xlabel(\"x\"); plt.ylabel(\"y\"); plt.plot(x, y, 'b'); plt.grid()\n",
    "plt.plot([xst, xet], [0,0], 'or')\n",
    "plt.plot([xmid], fx(xmid), 'og')"
   ]
  },
  {
   "cell_type": "code",
   "execution_count": null,
   "metadata": {},
   "outputs": [],
   "source": []
  },
  {
   "cell_type": "code",
   "execution_count": null,
   "metadata": {},
   "outputs": [],
   "source": []
  },
  {
   "cell_type": "code",
   "execution_count": null,
   "metadata": {},
   "outputs": [],
   "source": []
  }
 ],
 "metadata": {
  "colab": {
   "provenance": []
  },
  "kernelspec": {
   "display_name": "Python 3 (ipykernel)",
   "language": "python",
   "name": "python3"
  },
  "language_info": {
   "codemirror_mode": {
    "name": "ipython",
    "version": 3
   },
   "file_extension": ".py",
   "mimetype": "text/x-python",
   "name": "python",
   "nbconvert_exporter": "python",
   "pygments_lexer": "ipython3",
   "version": "3.11.4"
  }
 },
 "nbformat": 4,
 "nbformat_minor": 4
}
